{
 "cells": [
  {
   "cell_type": "code",
   "execution_count": 8,
   "id": "13b6c714-9d9c-45ee-aecf-bfb2e1917300",
   "metadata": {},
   "outputs": [
    {
     "data": {
      "text/plain": [
       "<torch._C.Generator at 0x7fbed2c3b650>"
      ]
     },
     "execution_count": 8,
     "metadata": {},
     "output_type": "execute_result"
    }
   ],
   "source": [
    "import random\n",
    "import seaborn as sns\n",
    "import pandas as pd\n",
    "import numpy as np\n",
    "import matplotlib.pyplot as plt\n",
    "import sklearn\n",
    "import torch,torchvision\n",
    "from torch.nn import *\n",
    "from tqdm import tqdm\n",
    "import cv2\n",
    "from torch.optim import *\n",
    "# Preproccessing\n",
    "from sklearn.preprocessing import (\n",
    "    StandardScaler,\n",
    "    RobustScaler,\n",
    "    MinMaxScaler,\n",
    "    MaxAbsScaler,\n",
    "    OneHotEncoder,\n",
    "    Normalizer,\n",
    "    Binarizer\n",
    ")\n",
    "# Decomposition\n",
    "from sklearn.decomposition import PCA\n",
    "from sklearn.decomposition import KernelPCA\n",
    "# Feature Selection\n",
    "from sklearn.feature_selection import VarianceThreshold\n",
    "from sklearn.feature_selection import SelectKBest\n",
    "from sklearn.feature_selection import RFECV\n",
    "from sklearn.feature_selection import SelectFromModel\n",
    "# Model Eval\n",
    "from sklearn.compose import make_column_transformer\n",
    "from sklearn.model_selection import GridSearchCV\n",
    "from sklearn.model_selection import cross_val_score,train_test_split\n",
    "from sklearn.metrics import mean_absolute_error,mean_squared_error\n",
    "# Other\n",
    "import pickle\n",
    "import wandb\n",
    "\n",
    "PROJECT_NAME = 'Lg-Stock-Price-Prediction'\n",
    "device = 'cuda:0'\n",
    "np.random.seed(21)\n",
    "random.seed(21)\n",
    "torch.manual_seed(21)"
   ]
  },
  {
   "cell_type": "code",
   "execution_count": 9,
   "id": "34afd29c-7edd-4050-962d-74f77523e14f",
   "metadata": {},
   "outputs": [],
   "source": [
    "data = pd.read_csv('./data/lg.csv')"
   ]
  },
  {
   "cell_type": "code",
   "execution_count": 10,
   "id": "0a6a879e-dde9-45ed-a422-32b51693cf08",
   "metadata": {},
   "outputs": [
    {
     "data": {
      "text/html": [
       "<div>\n",
       "<style scoped>\n",
       "    .dataframe tbody tr th:only-of-type {\n",
       "        vertical-align: middle;\n",
       "    }\n",
       "\n",
       "    .dataframe tbody tr th {\n",
       "        vertical-align: top;\n",
       "    }\n",
       "\n",
       "    .dataframe thead th {\n",
       "        text-align: right;\n",
       "    }\n",
       "</style>\n",
       "<table border=\"1\" class=\"dataframe\">\n",
       "  <thead>\n",
       "    <tr style=\"text-align: right;\">\n",
       "      <th></th>\n",
       "      <th>Date</th>\n",
       "      <th>Open</th>\n",
       "      <th>High</th>\n",
       "      <th>Low</th>\n",
       "      <th>Close</th>\n",
       "      <th>Adj Close</th>\n",
       "      <th>Volume</th>\n",
       "    </tr>\n",
       "  </thead>\n",
       "  <tbody>\n",
       "    <tr>\n",
       "      <th>0</th>\n",
       "      <td>2016-08-23</td>\n",
       "      <td>52700.0</td>\n",
       "      <td>52800.0</td>\n",
       "      <td>51400.0</td>\n",
       "      <td>51500.0</td>\n",
       "      <td>49258.472656</td>\n",
       "      <td>737608.0</td>\n",
       "    </tr>\n",
       "    <tr>\n",
       "      <th>1</th>\n",
       "      <td>2016-08-24</td>\n",
       "      <td>51600.0</td>\n",
       "      <td>51700.0</td>\n",
       "      <td>51000.0</td>\n",
       "      <td>51100.0</td>\n",
       "      <td>48875.886719</td>\n",
       "      <td>653161.0</td>\n",
       "    </tr>\n",
       "    <tr>\n",
       "      <th>2</th>\n",
       "      <td>2016-08-25</td>\n",
       "      <td>51400.0</td>\n",
       "      <td>52300.0</td>\n",
       "      <td>51400.0</td>\n",
       "      <td>52100.0</td>\n",
       "      <td>49832.359375</td>\n",
       "      <td>579633.0</td>\n",
       "    </tr>\n",
       "    <tr>\n",
       "      <th>3</th>\n",
       "      <td>2016-08-26</td>\n",
       "      <td>52100.0</td>\n",
       "      <td>52200.0</td>\n",
       "      <td>51500.0</td>\n",
       "      <td>52100.0</td>\n",
       "      <td>49832.359375</td>\n",
       "      <td>354347.0</td>\n",
       "    </tr>\n",
       "    <tr>\n",
       "      <th>4</th>\n",
       "      <td>2016-08-29</td>\n",
       "      <td>52100.0</td>\n",
       "      <td>52200.0</td>\n",
       "      <td>51400.0</td>\n",
       "      <td>51500.0</td>\n",
       "      <td>49258.472656</td>\n",
       "      <td>353607.0</td>\n",
       "    </tr>\n",
       "    <tr>\n",
       "      <th>...</th>\n",
       "      <td>...</td>\n",
       "      <td>...</td>\n",
       "      <td>...</td>\n",
       "      <td>...</td>\n",
       "      <td>...</td>\n",
       "      <td>...</td>\n",
       "      <td>...</td>\n",
       "    </tr>\n",
       "    <tr>\n",
       "      <th>1223</th>\n",
       "      <td>2021-08-17</td>\n",
       "      <td>150500.0</td>\n",
       "      <td>153500.0</td>\n",
       "      <td>150000.0</td>\n",
       "      <td>151000.0</td>\n",
       "      <td>151000.000000</td>\n",
       "      <td>779899.0</td>\n",
       "    </tr>\n",
       "    <tr>\n",
       "      <th>1224</th>\n",
       "      <td>2021-08-18</td>\n",
       "      <td>150500.0</td>\n",
       "      <td>154000.0</td>\n",
       "      <td>150000.0</td>\n",
       "      <td>153500.0</td>\n",
       "      <td>153500.000000</td>\n",
       "      <td>652995.0</td>\n",
       "    </tr>\n",
       "    <tr>\n",
       "      <th>1225</th>\n",
       "      <td>2021-08-19</td>\n",
       "      <td>151500.0</td>\n",
       "      <td>153000.0</td>\n",
       "      <td>148000.0</td>\n",
       "      <td>148000.0</td>\n",
       "      <td>148000.000000</td>\n",
       "      <td>737444.0</td>\n",
       "    </tr>\n",
       "    <tr>\n",
       "      <th>1226</th>\n",
       "      <td>2021-08-20</td>\n",
       "      <td>148500.0</td>\n",
       "      <td>150500.0</td>\n",
       "      <td>146000.0</td>\n",
       "      <td>146500.0</td>\n",
       "      <td>146500.000000</td>\n",
       "      <td>802093.0</td>\n",
       "    </tr>\n",
       "    <tr>\n",
       "      <th>1227</th>\n",
       "      <td>2021-08-23</td>\n",
       "      <td>145500.0</td>\n",
       "      <td>146000.0</td>\n",
       "      <td>138000.0</td>\n",
       "      <td>140500.0</td>\n",
       "      <td>140500.000000</td>\n",
       "      <td>1772024.0</td>\n",
       "    </tr>\n",
       "  </tbody>\n",
       "</table>\n",
       "<p>1228 rows × 7 columns</p>\n",
       "</div>"
      ],
      "text/plain": [
       "            Date      Open      High       Low     Close      Adj Close  \\\n",
       "0     2016-08-23   52700.0   52800.0   51400.0   51500.0   49258.472656   \n",
       "1     2016-08-24   51600.0   51700.0   51000.0   51100.0   48875.886719   \n",
       "2     2016-08-25   51400.0   52300.0   51400.0   52100.0   49832.359375   \n",
       "3     2016-08-26   52100.0   52200.0   51500.0   52100.0   49832.359375   \n",
       "4     2016-08-29   52100.0   52200.0   51400.0   51500.0   49258.472656   \n",
       "...          ...       ...       ...       ...       ...            ...   \n",
       "1223  2021-08-17  150500.0  153500.0  150000.0  151000.0  151000.000000   \n",
       "1224  2021-08-18  150500.0  154000.0  150000.0  153500.0  153500.000000   \n",
       "1225  2021-08-19  151500.0  153000.0  148000.0  148000.0  148000.000000   \n",
       "1226  2021-08-20  148500.0  150500.0  146000.0  146500.0  146500.000000   \n",
       "1227  2021-08-23  145500.0  146000.0  138000.0  140500.0  140500.000000   \n",
       "\n",
       "         Volume  \n",
       "0      737608.0  \n",
       "1      653161.0  \n",
       "2      579633.0  \n",
       "3      354347.0  \n",
       "4      353607.0  \n",
       "...         ...  \n",
       "1223   779899.0  \n",
       "1224   652995.0  \n",
       "1225   737444.0  \n",
       "1226   802093.0  \n",
       "1227  1772024.0  \n",
       "\n",
       "[1228 rows x 7 columns]"
      ]
     },
     "execution_count": 10,
     "metadata": {},
     "output_type": "execute_result"
    }
   ],
   "source": [
    "data"
   ]
  },
  {
   "cell_type": "code",
   "execution_count": 11,
   "id": "9f71fe4f-ea83-4a3e-aa00-b41d7a725898",
   "metadata": {},
   "outputs": [],
   "source": [
    "data = torch.from_numpy(np.array(data['Low'].tolist())).view(1,-1)"
   ]
  },
  {
   "cell_type": "code",
   "execution_count": 13,
   "id": "21ec588d-0ace-424a-b595-46a566d6f899",
   "metadata": {},
   "outputs": [],
   "source": [
    "data_input = data[:1,:-1].float().to(device)\n",
    "data_target = data[:1,1:].float().to(device)"
   ]
  },
  {
   "cell_type": "code",
   "execution_count": 14,
   "id": "d6ec5262-3ef4-41ac-8217-e1015159b859",
   "metadata": {},
   "outputs": [
    {
     "data": {
      "text/plain": [
       "tensor([[ 51400.,  51000.,  51400.,  ..., 150000., 148000., 146000.]],\n",
       "       device='cuda:0')"
      ]
     },
     "execution_count": 14,
     "metadata": {},
     "output_type": "execute_result"
    }
   ],
   "source": [
    "data_input"
   ]
  },
  {
   "cell_type": "code",
   "execution_count": 15,
   "id": "aad18715-e1b0-4ce1-b1a8-5dabf08df661",
   "metadata": {},
   "outputs": [
    {
     "data": {
      "text/plain": [
       "tensor([[ 51000.,  51400.,  51500.,  ..., 148000., 146000., 138000.]],\n",
       "       device='cuda:0')"
      ]
     },
     "execution_count": 15,
     "metadata": {},
     "output_type": "execute_result"
    }
   ],
   "source": [
    "data_target"
   ]
  },
  {
   "cell_type": "code",
   "execution_count": null,
   "id": "d2cc2edf-8b9c-4ff9-9d2b-81b65881c1eb",
   "metadata": {},
   "outputs": [],
   "source": [
    "class Model(Module):\n",
    "    def __init__(self,hidden=128):\n",
    "        super().__init__()\n",
    "        self.hidden = hidden\n",
    "        self.lstm1 = LSTMCell(1,self.hidden)\n",
    "        self.lstm2 = LSTMCell(self.hidden,self.hidden)\n",
    "        self.linear = Linear(self.hidden,1)\n",
    "    def forward(self,X,future=0):\n",
    "        preds = []\n",
    "        batch_size = X.shape[0]\n",
    "        h_t1 = torch.zeros(batch_size,self.hidden,dtype=torch.float32).to(device)\n",
    "        c_t1 = torch.zeros(batch_size,self.hidden,dtype=torch.float32).to(device)\n",
    "        h_t2 = torch.zeros(batch_size,self.hidden,dtype=torch.float32).to(device)\n",
    "        c_t2 = torch.zeros(batch_size,self.hidden,dtype=torch.float32).to(device)\n",
    "        for X_batch in X.split(1,dim=1):\n",
    "            X_batch = X_batch.to(device)\n",
    "            h_t1,c_t1 = self.lstm1(X_batch,(h_t1,c_t1))\n",
    "            h_t1,c_t1 = h_t1.to(device),c_t1.to(device)\n",
    "            h_t2,c_t2 = self.lstm2(h_t1,(h_t2,c_t2))\n",
    "            h_t2,c_t2 = h_t2.to(device),c_t2.to(device)\n",
    "            pred = self.linear(h_t2)\n",
    "            preds.append(pred)\n",
    "        "
   ]
  }
 ],
 "metadata": {
  "kernelspec": {
   "display_name": "Python 3.7.3 64-bit ('base': conda)",
   "language": "python",
   "name": "python373jvsc74a57bd0210f9608a45c0278a93c9e0b10db32a427986ab48cfc0d20c139811eb78c4bbc"
  },
  "language_info": {
   "codemirror_mode": {
    "name": "ipython",
    "version": 3
   },
   "file_extension": ".py",
   "mimetype": "text/x-python",
   "name": "python",
   "nbconvert_exporter": "python",
   "pygments_lexer": "ipython3",
   "version": "3.7.7"
  }
 },
 "nbformat": 4,
 "nbformat_minor": 5
}
